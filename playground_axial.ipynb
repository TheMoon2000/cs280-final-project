{
 "cells": [
  {
   "cell_type": "code",
   "execution_count": 12,
   "metadata": {},
   "outputs": [
    {
     "name": "stdout",
     "output_type": "stream",
     "text": [
      "The autoreload extension is already loaded. To reload it, use:\n",
      "  %reload_ext autoreload\n"
     ]
    }
   ],
   "source": [
    "%load_ext autoreload\n",
    "%autoreload 2\n",
    "import cv2\n",
    "import numpy as np\n",
    "import torch\n",
    "import torch.nn as nn\n",
    "from utils import *\n",
    "from dataloaders.RealBlur import *\n",
    "import matplotlib.pyplot as plt\n",
    "from torchvision import transforms\n",
    "import einops\n",
    "from dataloaders.ColorizationDataset import ColorizationDataset"
   ]
  },
  {
   "cell_type": "code",
   "execution_count": 13,
   "metadata": {},
   "outputs": [
    {
     "name": "stdout",
     "output_type": "stream",
     "text": [
      "['Gradphoto', 'IMG_1042', 'IMG_1081', 'IMG_1252', 'IMG_4493', 'Photo']\n"
     ]
    }
   ],
   "source": [
    "dataset = ColorizationDataset(train=True, width=224, height=224, dataset_root =\"/Users/sagarasanghavi/Desktop/Photos\")\n",
    "print(dataset.filenames)"
   ]
  },
  {
   "cell_type": "code",
   "execution_count": 18,
   "metadata": {},
   "outputs": [
    {
     "name": "stdout",
     "output_type": "stream",
     "text": [
      "Image title /Users/sagarasanghavi/Desktop/Photos/JPEGImages/IMG_1042.jpg\n"
     ]
    },
    {
     "name": "stderr",
     "output_type": "stream",
     "text": [
      "[ WARN:0@3067.565] global loadsave.cpp:244 findDecoder imread_('/Users/sagarasanghavi/Desktop/Photos/JPEGImages/IMG_1042.jpg'): can't open/read file: check file path/integrity\n"
     ]
    },
    {
     "ename": "error",
     "evalue": "OpenCV(4.7.0) /Users/runner/miniforge3/conda-bld/libopencv_1678824230546/work/modules/imgproc/src/color.cpp:182: error: (-215:Assertion failed) !_src.empty() in function 'cvtColor'\n",
     "output_type": "error",
     "traceback": [
      "\u001b[0;31m---------------------------------------------------------------------------\u001b[0m",
      "\u001b[0;31merror\u001b[0m                                     Traceback (most recent call last)",
      "Cell \u001b[0;32mIn[18], line 7\u001b[0m\n\u001b[1;32m      4\u001b[0m     plt\u001b[39m.\u001b[39mimshow(cv2\u001b[39m.\u001b[39mcvtColor(img\u001b[39m.\u001b[39mtranspose((\u001b[39m1\u001b[39m, \u001b[39m2\u001b[39m, \u001b[39m0\u001b[39m)), cv2\u001b[39m.\u001b[39mCOLOR_BGR2RGB))\n\u001b[1;32m      5\u001b[0m     plt\u001b[39m.\u001b[39mshow()\n\u001b[0;32m----> 7\u001b[0m _, gt \u001b[39m=\u001b[39m dataset[\u001b[39m1\u001b[39m]\n\u001b[1;32m      8\u001b[0m show_image(gt)\n",
      "File \u001b[0;32m~/Desktop/Computer Vision/FinalProject/cs280-final-project/dataloaders/ColorizationDataset.py:24\u001b[0m, in \u001b[0;36mColorizationDataset.__getitem__\u001b[0;34m(self, index)\u001b[0m\n\u001b[1;32m     22\u001b[0m def __getitem__(self, index):\n\u001b[1;32m     23\u001b[0m     original = cv2.cvtColor(cv2.imread(f\"{self.dataset_root}/JPEGImages/{self.filenames[index]}.jpg\"), cv2.COLOR_BGR2RGB)\n\u001b[0;32m---> 24\u001b[0m     # assert original.shape[0] >= self.height and original.shape[1] >= self.width, f\"{original.shape} too small\"\n\u001b[1;32m     25\u001b[0m     original = original.astype(np.float32) / 255\n\u001b[1;32m     26\u001b[0m     if self.train:\n\u001b[1;32m     27\u001b[0m         # Crop identical size images for batch operations during training\n",
      "\u001b[0;31merror\u001b[0m: OpenCV(4.7.0) /Users/runner/miniforge3/conda-bld/libopencv_1678824230546/work/modules/imgproc/src/color.cpp:182: error: (-215:Assertion failed) !_src.empty() in function 'cvtColor'\n"
     ]
    }
   ],
   "source": [
    "# sanity check\n",
    "def show_image(img):\n",
    "    plt.figure()\n",
    "    plt.imshow(cv2.cvtColor(img.transpose((1, 2, 0)), cv2.COLOR_BGR2RGB))\n",
    "    plt.show()\n",
    "\n",
    "_, gt = dataset[1]\n",
    "show_image(gt)"
   ]
  },
  {
   "cell_type": "code",
   "execution_count": 6,
   "metadata": {},
   "outputs": [
    {
     "name": "stdout",
     "output_type": "stream",
     "text": [
      "torch.Size([1, 3, 224, 224])\n",
      "torch.Size([1, 128, 224, 224])\n"
     ]
    }
   ],
   "source": [
    "from models.axialtransformer import *\n",
    "\n",
    "blur, gt = dataset[0]\n",
    "\n",
    "cropped_image = gt[None, :, :512, :512]\n",
    "cropped_blur = blur[None, :, :512, :512]\n",
    "\n",
    "cropped_image_torch = torch.from_numpy(cropped_image).float()\n",
    "print(cropped_image_torch.shape)\n",
    "\n",
    "conv1x1 = nn.Conv2d(3, 128, 1)\n",
    "transformer = AxialImageTransformer(dim=128, depth=12, reversible=True)\n",
    "\n",
    "out = transformer(conv1x1(cropped_image_torch))\n",
    "print(out.shape)"
   ]
  },
  {
   "cell_type": "code",
   "execution_count": 17,
   "metadata": {},
   "outputs": [],
   "source": [
    "from models.unet import *\n",
    "\n",
    "unet_model = UNet(n_channels=3, n_classes=20, bilinear=False)\n",
    "unet_model()"
   ]
  },
  {
   "cell_type": "code",
   "execution_count": null,
   "metadata": {},
   "outputs": [],
   "source": []
  }
 ],
 "metadata": {
  "kernelspec": {
   "display_name": "cs280",
   "language": "python",
   "name": "python3"
  },
  "language_info": {
   "codemirror_mode": {
    "name": "ipython",
    "version": 3
   },
   "file_extension": ".py",
   "mimetype": "text/x-python",
   "name": "python",
   "nbconvert_exporter": "python",
   "pygments_lexer": "ipython3",
   "version": "3.11.3"
  }
 },
 "nbformat": 4,
 "nbformat_minor": 2
}
